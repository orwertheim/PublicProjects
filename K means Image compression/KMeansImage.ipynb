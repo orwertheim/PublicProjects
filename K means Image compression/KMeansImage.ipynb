{
  "nbformat": 4,
  "nbformat_minor": 0,
  "metadata": {
    "colab": {
      "provenance": []
    },
    "kernelspec": {
      "name": "python3",
      "display_name": "Python 3"
    },
    "language_info": {
      "name": "python"
    }
  },
  "cells": [
    {
      "cell_type": "markdown",
      "source": [],
      "metadata": {
        "id": "bF-A8YpQuOvi"
      }
    },
    {
      "cell_type": "code",
      "execution_count": 1,
      "metadata": {
        "id": "rlvxwuz-uKLS"
      },
      "outputs": [],
      "source": [
        "import numpy as np\n",
        "import matplotlib.pyplot as plt\n",
        "import requests\n",
        "import os\n",
        "import importlib\n",
        "import time\n",
        "from tqdm.notebook import tqdm\n",
        "\n",
        "%matplotlib inline"
      ]
    },
    {
      "cell_type": "code",
      "source": [
        "def upload_file(f_name, override=False):\n",
        "  if override or not os.path.exists(f_name):\n",
        "    timestamp = int(time.time())\n",
        "    url = f'https://raw.githubusercontent.com/orwertheim/PublicProjects/main/K%20means%20Image%20compression/{f_name}?t={timestamp}'\n",
        "    response = requests.get(url)\n",
        "    with open(f_name, 'wb') as f:\n",
        "      f.write(response.content)"
      ],
      "metadata": {
        "id": "D_1U5LwkxUps"
      },
      "execution_count": 2,
      "outputs": []
    },
    {
      "cell_type": "code",
      "source": [
        "upload_file('utils.py', override=True)\n",
        "import utils"
      ],
      "metadata": {
        "id": "JJ_etTBQ6r-F"
      },
      "execution_count": 3,
      "outputs": []
    },
    {
      "cell_type": "code",
      "source": [
        "upload_file('colorImage1.png')\n",
        "original_img = plt.imread('colorImage1.png')\n",
        "utils.display_images([original_img],['Original Image'])"
      ],
      "metadata": {
        "id": "Kleob1P-xbF7"
      },
      "execution_count": null,
      "outputs": []
    },
    {
      "cell_type": "code",
      "source": [
        "utils.plot_rgb_3d(original_img, title='Original Image Color Distribution')"
      ],
      "metadata": {
        "id": "PvbwZa2mxnYZ"
      },
      "execution_count": null,
      "outputs": []
    },
    {
      "cell_type": "code",
      "source": [
        "def find_closest_centroids(X, centroids):\n",
        "    \"\"\"\n",
        "    Computes the centroid memberships for every example\n",
        "\n",
        "    Args:\n",
        "        X (ndarray): (m, n) Input values\n",
        "        centroids (ndarray): (K, n) centroids\n",
        "\n",
        "    Returns:\n",
        "        idx (array_like): (m,) closest centroids\n",
        "    \"\"\"\n",
        "\n",
        "    # Calculate the squared Euclidean distance between each example and each centroid\n",
        "    # Broadcasting: X (m, n) and centroids (K, n) => (m, K, n)\n",
        "    diff = X[:, np.newaxis, :] - centroids  # (m, 1, n) - (K, n) => (m, K, n)\n",
        "    sq_dist = np.sum(diff**2, axis=2)  # (m, K) squared distances between each example and each centroid\n",
        "\n",
        "    # Find the index of the closest centroid (the one with the minimum distance)\n",
        "    idx = np.argmin(sq_dist, axis=1)\n",
        "\n",
        "    return idx"
      ],
      "metadata": {
        "id": "XcjocsgMy4p3"
      },
      "execution_count": 6,
      "outputs": []
    },
    {
      "cell_type": "code",
      "source": [
        "def compute_centroids(X, idx, K):\n",
        "    \"\"\"\n",
        "    Returns the new centroids by computing the means of the\n",
        "    data points assigned to each centroid.\n",
        "\n",
        "    Args:\n",
        "        X (ndarray):   (m, n) Data points\n",
        "        idx (ndarray): (m,) Array containing index of closest centroid for each\n",
        "                       example in X. Concretely, idx[i] contains the index of\n",
        "                       the centroid closest to example i\n",
        "        K (int):       number of centroids\n",
        "\n",
        "    Returns:\n",
        "        centroids (ndarray): (K, n) New centroids computed\n",
        "    \"\"\"\n",
        "\n",
        "    m, n = X.shape\n",
        "    centroids = np.zeros((K, n))\n",
        "\n",
        "    #add each example features to the centroid it belongs to\n",
        "    np.add.at(centroids, idx, X)\n",
        "\n",
        "    #count how many examples for each centroid\n",
        "    counts = np.bincount(idx, minlength=K).reshape(K,1)\n",
        "\n",
        "    #prevent zero divition\n",
        "    counts[counts == 0]=1\n",
        "\n",
        "    #calculate mean\n",
        "    centroids = centroids/counts\n",
        "\n",
        "    return centroids\n"
      ],
      "metadata": {
        "id": "Ki7NoUanGFwC"
      },
      "execution_count": 7,
      "outputs": []
    },
    {
      "cell_type": "markdown",
      "source": [
        "The cost function for K-Means clustering is the **Mean Squared Error** (MSE) between each data point and its assigned centroid.\n",
        "\n",
        "$$\n",
        "J = \\frac{1}{m} \\sum_{i=1}^{m} \\sum_{k=1}^{K} \\mathbb{1}(i, k) \\cdot \\| x_i - \\mu_k \\|^2\n",
        "$$\n",
        "\n",
        "Where:\n",
        "- $ x_i $ is the $ i $-th data point,\n",
        "- $ \\mu_k $ is the $ k $-th centroid,\n",
        "- $ \\mathbb{1}(i, k) $ is an indicator function that is 1 if data point \\(i\\) is assigned to centroid $ k $, and 0 otherwise,\n",
        "- $ m $ is the total number of data points,\n",
        "- $ K $ is the number of centroids.\n",
        "- $ \\| x_i - \\mu_k \\|^2 $ is the squared error.\n",
        "\n",
        "This equation calculates the **sum of squared errors** (SSE) between each data point and its assigned centroid, and the cost is the average over all data points.\n"
      ],
      "metadata": {
        "id": "PtcYBqYRIAun"
      }
    },
    {
      "cell_type": "code",
      "source": [
        "def compute_cost(X, centroids, idx):\n",
        "    \"\"\"\n",
        "    Computes the cost function for K-Means clustering.\n",
        "\n",
        "    Args:\n",
        "        X (ndarray): (m, n) Input data, where m is the number of data points and n is the number of features.\n",
        "        centroids (ndarray): (K, n) Centroids of the clusters, where K is the number of centroids.\n",
        "        idx (ndarray): (m,) Index array where each element is the index of the centroid assigned to the corresponding data point.\n",
        "\n",
        "    Returns:\n",
        "        J (float): The computed cost (sum of squared errors) for the given centroids and assignments.\n",
        "    \"\"\"\n",
        "\n",
        "    # Get the number of data points and centroids\n",
        "    m = X.shape[0]\n",
        "\n",
        "    # Efficiently compute the squared distances using broadcasting\n",
        "    # X (m, n) -> subtract from the corresponding centroid (centroids[idx] will have shape (m, n))\n",
        "    # The subtraction is done element-wise and then squared\n",
        "    diff = X - centroids[idx]  # Shape: (m, n)\n",
        "    squared_diff = np.sum(diff**2, axis=1)  # Sum the squared differences along the feature axis, result is shape (m,)\n",
        "\n",
        "    # The cost is the average of the squared distances\n",
        "    J = np.sum(squared_diff) / m\n",
        "\n",
        "    return J"
      ],
      "metadata": {
        "id": "-I1MYzshG5dr"
      },
      "execution_count": 8,
      "outputs": []
    },
    {
      "cell_type": "code",
      "source": [
        "def run_kMeans(X, initial_centroids, max_iters=10, prints=False):\n",
        "    \"\"\"\n",
        "    Runs the K-Means algorithm on data matrix X, where each row of X\n",
        "    is a single example\n",
        "    \"\"\"\n",
        "\n",
        "    # Initialize values\n",
        "    m, n = X.shape\n",
        "    K = initial_centroids.shape[0]\n",
        "    centroids = initial_centroids\n",
        "    idx = np.zeros(m)\n",
        "    # Run K-Means\n",
        "    last_cost=-1\n",
        "\n",
        "    #for i in tqdm(range(max_iters), desc=\"K-Means iterations\", unit=\"item\"):\n",
        "    for i in range(max_iters):\n",
        "        # For each example in X, assign it to the closest centroid\n",
        "        idx = find_closest_centroids(X, centroids)\n",
        "\n",
        "        # Given the memberships, compute new centroids\n",
        "        centroids = compute_centroids(X, idx, K)\n",
        "        last_cost=compute_cost(X,centroids, idx)\n",
        "        #Output progress\n",
        "        if prints:\n",
        "          print(f\"K-Means iteration: {i}/{max_iters-1}, cost: {last_cost}\")\n",
        "    return centroids, idx, last_cost"
      ],
      "metadata": {
        "id": "BDAXBTWEK7m5"
      },
      "execution_count": 9,
      "outputs": []
    },
    {
      "cell_type": "code",
      "source": [
        "def kMeans_init_centroids(X, K):\n",
        "    \"\"\"\n",
        "    This function initializes K centroids that are to be\n",
        "    used in K-Means on the dataset X\n",
        "\n",
        "    Args:\n",
        "        X (ndarray): Data points\n",
        "        K (int):     number of centroids/clusters\n",
        "\n",
        "    Returns:\n",
        "        centroids (ndarray): Initialized centroids\n",
        "    \"\"\"\n",
        "\n",
        "    # Randomly reorder the indices of examples\n",
        "    randidx = np.random.permutation(X.shape[0])\n",
        "\n",
        "    # Take the first K examples as centroids\n",
        "    centroids = X[randidx[:K]]\n",
        "\n",
        "    return centroids"
      ],
      "metadata": {
        "id": "Syk5YGo7Qd_D"
      },
      "execution_count": 10,
      "outputs": []
    },
    {
      "cell_type": "code",
      "source": [
        "X_img = np.reshape(original_img, (original_img.shape[0] * original_img.shape[1], 3))"
      ],
      "metadata": {
        "id": "2CmySES4QwUW"
      },
      "execution_count": 11,
      "outputs": []
    },
    {
      "cell_type": "code",
      "source": [
        "# Run your K-Means algorithm on this data\n",
        "# You should try different values of K and max_iters here\n",
        "K = 16\n",
        "K2 = 3\n",
        "max_iters = 10\n",
        "\n",
        "initializations_count = 20\n",
        "pairs = list(zip([K, K2] * initializations_count, list(range(initializations_count)) * 2))\n",
        "centroids_ar = []\n",
        "cost_ar = []\n",
        "idx_ar = []\n",
        "\n",
        "best_k2_centroid = None\n",
        "best_k2_cost = float('inf')\n",
        "best_k2_idx = None\n",
        "\n",
        "for k_value, init in tqdm(pairs, desc=\"K-Means Runs\", unit=\"Run\"):\n",
        "  # Using the function you have implemented above.\n",
        "  initial_centroids = kMeans_init_centroids(X_img, k_value)\n",
        "  # Run K-Means - this can take a couple of minutes depending on K and max_iters\n",
        "  centroids, idx, cost = run_kMeans(X_img, initial_centroids, max_iters)\n",
        "  if k_value == K:\n",
        "    centroids_ar.append(centroids); idx_ar.append(idx); cost_ar.append(cost)\n",
        "  elif cost < best_k2_cost:\n",
        "    best_k2_cost = cost\n",
        "    best_k2_centroid = centroids\n",
        "    best_k2_idx = idx\n",
        "\n"
      ],
      "metadata": {
        "id": "9FGIRCKULV3r"
      },
      "execution_count": null,
      "outputs": []
    },
    {
      "cell_type": "code",
      "source": [
        "y_range = (np.min(cost_ar)-0.001, np.max(cost_ar)+0.001)\n",
        "plot_histogram(cost_ar, y_label=\"Mean Squared Distance of Pixels to Their Centroids\", x_label='K-Means Run (Initialization Attempt)', title='Pixel Similarity to Centroids Across Multiple K-Means Runs', y_lim=y_range)"
      ],
      "metadata": {
        "id": "YoVlaA5YLbIK"
      },
      "execution_count": null,
      "outputs": []
    },
    {
      "cell_type": "code",
      "source": [
        "best_centroids = centroids_ar[np.argmin(cost_ar)]\n",
        "best_centroids_idx = idx_ar[np.argmin(cost_ar)]\n",
        "plot_kMeans_RGB(X_img, best_centroids, best_centroids_idx, centroids2 = best_k2_centroid, idx2 = best_k2_idx, sample_size=1000000)"
      ],
      "metadata": {
        "id": "iq1C3zhya0zK"
      },
      "execution_count": null,
      "outputs": []
    },
    {
      "cell_type": "code",
      "source": [
        "\n",
        "best_image = np.reshape(best_centroids[best_centroids_idx],original_img.shape)\n",
        "\n",
        "\n",
        "worst_centroids = centroids_ar[np.argmax(cost_ar)]\n",
        "worst_centroids_idx = idx_ar[np.argmax(cost_ar)]\n",
        "worst_image = np.reshape(worst_centroids[worst_centroids_idx],original_img.shape)\n",
        "\n",
        "\n",
        "k2_image = np.reshape(best_centroids[best_k2_idx],original_img.shape)\n",
        "\n",
        "utils.display_images([original_img, best_image, worst_image, k2_image],['Original Image', f'Best Clustering Image For {K} colors', f'Worst Clustering Image For {K} colors', f'Best Clustering Image For {K2} colors'])"
      ],
      "metadata": {
        "id": "QxmlN5Yjk28q"
      },
      "execution_count": null,
      "outputs": []
    },
    {
      "cell_type": "code",
      "source": [
        "utils.show_centroid_colors(best_centroids)"
      ],
      "metadata": {
        "id": "KA398TTJ5axq"
      },
      "execution_count": null,
      "outputs": []
    },
    {
      "cell_type": "code",
      "source": [
        "utils.show_centroid_colors(worst_centroids)"
      ],
      "metadata": {
        "id": "eRa_rgF0FrLd"
      },
      "execution_count": null,
      "outputs": []
    },
    {
      "cell_type": "code",
      "source": [
        "utils.show_centroid_colors(best_k2_centroid)"
      ],
      "metadata": {
        "id": "GAkK3kWxFxaa"
      },
      "execution_count": null,
      "outputs": []
    },
    {
      "cell_type": "code",
      "source": [],
      "metadata": {
        "id": "xZdJ3UtyTGIm"
      },
      "execution_count": null,
      "outputs": []
    }
  ]
}
