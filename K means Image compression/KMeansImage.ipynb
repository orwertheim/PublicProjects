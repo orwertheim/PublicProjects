{
  "nbformat": 4,
  "nbformat_minor": 0,
  "metadata": {
    "colab": {
      "provenance": []
    },
    "kernelspec": {
      "name": "python3",
      "display_name": "Python 3"
    },
    "language_info": {
      "name": "python"
    },
    "widgets": {
      "application/vnd.jupyter.widget-state+json": {
        "761c493d9d6f4f138b17983cfcd02880": {
          "model_module": "@jupyter-widgets/controls",
          "model_name": "HBoxModel",
          "model_module_version": "1.5.0",
          "state": {
            "_dom_classes": [],
            "_model_module": "@jupyter-widgets/controls",
            "_model_module_version": "1.5.0",
            "_model_name": "HBoxModel",
            "_view_count": null,
            "_view_module": "@jupyter-widgets/controls",
            "_view_module_version": "1.5.0",
            "_view_name": "HBoxView",
            "box_style": "",
            "children": [
              "IPY_MODEL_c3150f0197a040aab125208ee29b602e",
              "IPY_MODEL_b2d4fd7bb92647318225e8b50f84acf8",
              "IPY_MODEL_0834c732c65846d49ea0caf95cd5e39b"
            ],
            "layout": "IPY_MODEL_695d8bf281e042f29174b1835b1f2ea1"
          }
        },
        "c3150f0197a040aab125208ee29b602e": {
          "model_module": "@jupyter-widgets/controls",
          "model_name": "HTMLModel",
          "model_module_version": "1.5.0",
          "state": {
            "_dom_classes": [],
            "_model_module": "@jupyter-widgets/controls",
            "_model_module_version": "1.5.0",
            "_model_name": "HTMLModel",
            "_view_count": null,
            "_view_module": "@jupyter-widgets/controls",
            "_view_module_version": "1.5.0",
            "_view_name": "HTMLView",
            "description": "",
            "description_tooltip": null,
            "layout": "IPY_MODEL_8e966a8e3f7a4d69add29577e4dad5aa",
            "placeholder": "​",
            "style": "IPY_MODEL_70561bd16d254eccb13fa5433ddbe847",
            "value": "K-Means Runs: 100%"
          }
        },
        "b2d4fd7bb92647318225e8b50f84acf8": {
          "model_module": "@jupyter-widgets/controls",
          "model_name": "FloatProgressModel",
          "model_module_version": "1.5.0",
          "state": {
            "_dom_classes": [],
            "_model_module": "@jupyter-widgets/controls",
            "_model_module_version": "1.5.0",
            "_model_name": "FloatProgressModel",
            "_view_count": null,
            "_view_module": "@jupyter-widgets/controls",
            "_view_module_version": "1.5.0",
            "_view_name": "ProgressView",
            "bar_style": "success",
            "description": "",
            "description_tooltip": null,
            "layout": "IPY_MODEL_9fc004faabe147efae9da914d6b16d0e",
            "max": 20,
            "min": 0,
            "orientation": "horizontal",
            "style": "IPY_MODEL_7d12c90acce04ce3a31d426583147be2",
            "value": 20
          }
        },
        "0834c732c65846d49ea0caf95cd5e39b": {
          "model_module": "@jupyter-widgets/controls",
          "model_name": "HTMLModel",
          "model_module_version": "1.5.0",
          "state": {
            "_dom_classes": [],
            "_model_module": "@jupyter-widgets/controls",
            "_model_module_version": "1.5.0",
            "_model_name": "HTMLModel",
            "_view_count": null,
            "_view_module": "@jupyter-widgets/controls",
            "_view_module_version": "1.5.0",
            "_view_name": "HTMLView",
            "description": "",
            "description_tooltip": null,
            "layout": "IPY_MODEL_f8096b9e5d064039ad26cbd4ab474b8f",
            "placeholder": "​",
            "style": "IPY_MODEL_2c47495a05a34cc5a4ea45fb164b362e",
            "value": " 20/20 [00:21&lt;00:00,  1.01s/Run]"
          }
        },
        "695d8bf281e042f29174b1835b1f2ea1": {
          "model_module": "@jupyter-widgets/base",
          "model_name": "LayoutModel",
          "model_module_version": "1.2.0",
          "state": {
            "_model_module": "@jupyter-widgets/base",
            "_model_module_version": "1.2.0",
            "_model_name": "LayoutModel",
            "_view_count": null,
            "_view_module": "@jupyter-widgets/base",
            "_view_module_version": "1.2.0",
            "_view_name": "LayoutView",
            "align_content": null,
            "align_items": null,
            "align_self": null,
            "border": null,
            "bottom": null,
            "display": null,
            "flex": null,
            "flex_flow": null,
            "grid_area": null,
            "grid_auto_columns": null,
            "grid_auto_flow": null,
            "grid_auto_rows": null,
            "grid_column": null,
            "grid_gap": null,
            "grid_row": null,
            "grid_template_areas": null,
            "grid_template_columns": null,
            "grid_template_rows": null,
            "height": null,
            "justify_content": null,
            "justify_items": null,
            "left": null,
            "margin": null,
            "max_height": null,
            "max_width": null,
            "min_height": null,
            "min_width": null,
            "object_fit": null,
            "object_position": null,
            "order": null,
            "overflow": null,
            "overflow_x": null,
            "overflow_y": null,
            "padding": null,
            "right": null,
            "top": null,
            "visibility": null,
            "width": null
          }
        },
        "8e966a8e3f7a4d69add29577e4dad5aa": {
          "model_module": "@jupyter-widgets/base",
          "model_name": "LayoutModel",
          "model_module_version": "1.2.0",
          "state": {
            "_model_module": "@jupyter-widgets/base",
            "_model_module_version": "1.2.0",
            "_model_name": "LayoutModel",
            "_view_count": null,
            "_view_module": "@jupyter-widgets/base",
            "_view_module_version": "1.2.0",
            "_view_name": "LayoutView",
            "align_content": null,
            "align_items": null,
            "align_self": null,
            "border": null,
            "bottom": null,
            "display": null,
            "flex": null,
            "flex_flow": null,
            "grid_area": null,
            "grid_auto_columns": null,
            "grid_auto_flow": null,
            "grid_auto_rows": null,
            "grid_column": null,
            "grid_gap": null,
            "grid_row": null,
            "grid_template_areas": null,
            "grid_template_columns": null,
            "grid_template_rows": null,
            "height": null,
            "justify_content": null,
            "justify_items": null,
            "left": null,
            "margin": null,
            "max_height": null,
            "max_width": null,
            "min_height": null,
            "min_width": null,
            "object_fit": null,
            "object_position": null,
            "order": null,
            "overflow": null,
            "overflow_x": null,
            "overflow_y": null,
            "padding": null,
            "right": null,
            "top": null,
            "visibility": null,
            "width": null
          }
        },
        "70561bd16d254eccb13fa5433ddbe847": {
          "model_module": "@jupyter-widgets/controls",
          "model_name": "DescriptionStyleModel",
          "model_module_version": "1.5.0",
          "state": {
            "_model_module": "@jupyter-widgets/controls",
            "_model_module_version": "1.5.0",
            "_model_name": "DescriptionStyleModel",
            "_view_count": null,
            "_view_module": "@jupyter-widgets/base",
            "_view_module_version": "1.2.0",
            "_view_name": "StyleView",
            "description_width": ""
          }
        },
        "9fc004faabe147efae9da914d6b16d0e": {
          "model_module": "@jupyter-widgets/base",
          "model_name": "LayoutModel",
          "model_module_version": "1.2.0",
          "state": {
            "_model_module": "@jupyter-widgets/base",
            "_model_module_version": "1.2.0",
            "_model_name": "LayoutModel",
            "_view_count": null,
            "_view_module": "@jupyter-widgets/base",
            "_view_module_version": "1.2.0",
            "_view_name": "LayoutView",
            "align_content": null,
            "align_items": null,
            "align_self": null,
            "border": null,
            "bottom": null,
            "display": null,
            "flex": null,
            "flex_flow": null,
            "grid_area": null,
            "grid_auto_columns": null,
            "grid_auto_flow": null,
            "grid_auto_rows": null,
            "grid_column": null,
            "grid_gap": null,
            "grid_row": null,
            "grid_template_areas": null,
            "grid_template_columns": null,
            "grid_template_rows": null,
            "height": null,
            "justify_content": null,
            "justify_items": null,
            "left": null,
            "margin": null,
            "max_height": null,
            "max_width": null,
            "min_height": null,
            "min_width": null,
            "object_fit": null,
            "object_position": null,
            "order": null,
            "overflow": null,
            "overflow_x": null,
            "overflow_y": null,
            "padding": null,
            "right": null,
            "top": null,
            "visibility": null,
            "width": null
          }
        },
        "7d12c90acce04ce3a31d426583147be2": {
          "model_module": "@jupyter-widgets/controls",
          "model_name": "ProgressStyleModel",
          "model_module_version": "1.5.0",
          "state": {
            "_model_module": "@jupyter-widgets/controls",
            "_model_module_version": "1.5.0",
            "_model_name": "ProgressStyleModel",
            "_view_count": null,
            "_view_module": "@jupyter-widgets/base",
            "_view_module_version": "1.2.0",
            "_view_name": "StyleView",
            "bar_color": null,
            "description_width": ""
          }
        },
        "f8096b9e5d064039ad26cbd4ab474b8f": {
          "model_module": "@jupyter-widgets/base",
          "model_name": "LayoutModel",
          "model_module_version": "1.2.0",
          "state": {
            "_model_module": "@jupyter-widgets/base",
            "_model_module_version": "1.2.0",
            "_model_name": "LayoutModel",
            "_view_count": null,
            "_view_module": "@jupyter-widgets/base",
            "_view_module_version": "1.2.0",
            "_view_name": "LayoutView",
            "align_content": null,
            "align_items": null,
            "align_self": null,
            "border": null,
            "bottom": null,
            "display": null,
            "flex": null,
            "flex_flow": null,
            "grid_area": null,
            "grid_auto_columns": null,
            "grid_auto_flow": null,
            "grid_auto_rows": null,
            "grid_column": null,
            "grid_gap": null,
            "grid_row": null,
            "grid_template_areas": null,
            "grid_template_columns": null,
            "grid_template_rows": null,
            "height": null,
            "justify_content": null,
            "justify_items": null,
            "left": null,
            "margin": null,
            "max_height": null,
            "max_width": null,
            "min_height": null,
            "min_width": null,
            "object_fit": null,
            "object_position": null,
            "order": null,
            "overflow": null,
            "overflow_x": null,
            "overflow_y": null,
            "padding": null,
            "right": null,
            "top": null,
            "visibility": null,
            "width": null
          }
        },
        "2c47495a05a34cc5a4ea45fb164b362e": {
          "model_module": "@jupyter-widgets/controls",
          "model_name": "DescriptionStyleModel",
          "model_module_version": "1.5.0",
          "state": {
            "_model_module": "@jupyter-widgets/controls",
            "_model_module_version": "1.5.0",
            "_model_name": "DescriptionStyleModel",
            "_view_count": null,
            "_view_module": "@jupyter-widgets/base",
            "_view_module_version": "1.2.0",
            "_view_name": "StyleView",
            "description_width": ""
          }
        }
      }
    }
  },
  "cells": [
    {
      "cell_type": "markdown",
      "source": [],
      "metadata": {
        "id": "bF-A8YpQuOvi"
      }
    },
    {
      "cell_type": "code",
      "execution_count": 72,
      "metadata": {
        "id": "rlvxwuz-uKLS"
      },
      "outputs": [],
      "source": [
        "import numpy as np\n",
        "import matplotlib.pyplot as plt\n",
        "import requests\n",
        "import os\n",
        "import importlib\n",
        "import time\n",
        "import seaborn as sns\n",
        "from mpl_toolkits.mplot3d import Axes3D\n",
        "from PIL import Image\n",
        "from tqdm.notebook import tqdm\n",
        "\n",
        "%matplotlib inline"
      ]
    },
    {
      "cell_type": "code",
      "source": [
        "def upload_file(f_name, override=False):\n",
        "  if override or not os.path.exists(f_name):\n",
        "    timestamp = int(time.time())\n",
        "    url = f'https://raw.githubusercontent.com/orwertheim/PublicProjects/main/K%20means%20Image%20compression/{f_name}?t={timestamp}'\n",
        "    response = requests.get(url)\n",
        "    with open(f_name, 'wb') as f:\n",
        "      f.write(response.content)"
      ],
      "metadata": {
        "id": "D_1U5LwkxUps"
      },
      "execution_count": 74,
      "outputs": []
    },
    {
      "cell_type": "code",
      "source": [
        "upload_file('utils.py', override=True)\n",
        "import utils"
      ],
      "metadata": {
        "id": "JJ_etTBQ6r-F"
      },
      "execution_count": 75,
      "outputs": []
    },
    {
      "cell_type": "code",
      "source": [
        "upload_file('colorImage1.png')\n",
        "original_img = plt.imread('colorImage1.png')\n",
        "utils.display_images([original_img],['Original Image'])"
      ],
      "metadata": {
        "id": "Kleob1P-xbF7"
      },
      "execution_count": null,
      "outputs": []
    },
    {
      "cell_type": "code",
      "source": [
        "utils.plot_rgb_3d(original_img, title='Original Image Color Distribution')"
      ],
      "metadata": {
        "id": "PvbwZa2mxnYZ"
      },
      "execution_count": null,
      "outputs": []
    },
    {
      "cell_type": "code",
      "source": [
        "def find_closest_centroids(X, centroids):\n",
        "    \"\"\"\n",
        "    Computes the centroid memberships for every example\n",
        "\n",
        "    Args:\n",
        "        X (ndarray): (m, n) Input values\n",
        "        centroids (ndarray): (K, n) centroids\n",
        "\n",
        "    Returns:\n",
        "        idx (array_like): (m,) closest centroids\n",
        "    \"\"\"\n",
        "\n",
        "    # Calculate the squared Euclidean distance between each example and each centroid\n",
        "    # Broadcasting: X (m, n) and centroids (K, n) => (m, K, n)\n",
        "    diff = X[:, np.newaxis, :] - centroids  # (m, 1, n) - (K, n) => (m, K, n)\n",
        "    sq_dist = np.sum(diff**2, axis=2)  # (m, K) squared distances between each example and each centroid\n",
        "\n",
        "    # Find the index of the closest centroid (the one with the minimum distance)\n",
        "    idx = np.argmin(sq_dist, axis=1)\n",
        "\n",
        "    return idx"
      ],
      "metadata": {
        "id": "XcjocsgMy4p3"
      },
      "execution_count": 78,
      "outputs": []
    },
    {
      "cell_type": "code",
      "source": [
        "def compute_centroids(X, idx, K):\n",
        "    \"\"\"\n",
        "    Returns the new centroids by computing the means of the\n",
        "    data points assigned to each centroid.\n",
        "\n",
        "    Args:\n",
        "        X (ndarray):   (m, n) Data points\n",
        "        idx (ndarray): (m,) Array containing index of closest centroid for each\n",
        "                       example in X. Concretely, idx[i] contains the index of\n",
        "                       the centroid closest to example i\n",
        "        K (int):       number of centroids\n",
        "\n",
        "    Returns:\n",
        "        centroids (ndarray): (K, n) New centroids computed\n",
        "    \"\"\"\n",
        "\n",
        "    m, n = X.shape\n",
        "    centroids = np.zeros((K, n))\n",
        "\n",
        "    #add each example features to the centroid it belongs to\n",
        "    np.add.at(centroids, idx, X)\n",
        "\n",
        "    #count how many examples for each centroid\n",
        "    counts = np.bincount(idx, minlength=K).reshape(K,1)\n",
        "\n",
        "    #prevent zero divition\n",
        "    counts[counts == 0]=1\n",
        "\n",
        "    #calculate mean\n",
        "    centroids = centroids/counts\n",
        "\n",
        "    return centroids\n"
      ],
      "metadata": {
        "id": "Ki7NoUanGFwC"
      },
      "execution_count": 79,
      "outputs": []
    },
    {
      "cell_type": "markdown",
      "source": [
        "The cost function for K-Means clustering is the **Mean Squared Error** (MSE) between each data point and its assigned centroid.\n",
        "\n",
        "$$\n",
        "J = \\frac{1}{m} \\sum_{i=1}^{m} \\sum_{k=1}^{K} \\mathbb{1}(i, k) \\cdot \\| x_i - \\mu_k \\|^2\n",
        "$$\n",
        "\n",
        "Where:\n",
        "- $ x_i $ is the $ i $-th data point,\n",
        "- $ \\mu_k $ is the $ k $-th centroid,\n",
        "- $ \\mathbb{1}(i, k) $ is an indicator function that is 1 if data point \\(i\\) is assigned to centroid $ k $, and 0 otherwise,\n",
        "- $ m $ is the total number of data points,\n",
        "- $ K $ is the number of centroids.\n",
        "- $ \\| x_i - \\mu_k \\|^2 $ is the squared error.\n",
        "\n",
        "This equation calculates the **sum of squared errors** (SSE) between each data point and its assigned centroid, and the cost is the average over all data points.\n"
      ],
      "metadata": {
        "id": "PtcYBqYRIAun"
      }
    },
    {
      "cell_type": "code",
      "source": [
        "def compute_cost(X, centroids, idx):\n",
        "    \"\"\"\n",
        "    Computes the cost function for K-Means clustering.\n",
        "\n",
        "    Args:\n",
        "        X (ndarray): (m, n) Input data, where m is the number of data points and n is the number of features.\n",
        "        centroids (ndarray): (K, n) Centroids of the clusters, where K is the number of centroids.\n",
        "        idx (ndarray): (m,) Index array where each element is the index of the centroid assigned to the corresponding data point.\n",
        "\n",
        "    Returns:\n",
        "        J (float): The computed cost (sum of squared errors) for the given centroids and assignments.\n",
        "    \"\"\"\n",
        "\n",
        "    # Get the number of data points and centroids\n",
        "    m = X.shape[0]\n",
        "\n",
        "    # Efficiently compute the squared distances using broadcasting\n",
        "    # X (m, n) -> subtract from the corresponding centroid (centroids[idx] will have shape (m, n))\n",
        "    # The subtraction is done element-wise and then squared\n",
        "    diff = X - centroids[idx]  # Shape: (m, n)\n",
        "    squared_diff = np.sum(diff**2, axis=1)  # Sum the squared differences along the feature axis, result is shape (m,)\n",
        "\n",
        "    # The cost is the average of the squared distances\n",
        "    J = np.sum(squared_diff) / m\n",
        "\n",
        "    return J"
      ],
      "metadata": {
        "id": "-I1MYzshG5dr"
      },
      "execution_count": 80,
      "outputs": []
    },
    {
      "cell_type": "code",
      "source": [
        "def run_kMeans(X, initial_centroids, max_iters=10, prints=False):\n",
        "    \"\"\"\n",
        "    Runs the K-Means algorithm on data matrix X, where each row of X\n",
        "    is a single example\n",
        "    \"\"\"\n",
        "\n",
        "    # Initialize values\n",
        "    m, n = X.shape\n",
        "    K = initial_centroids.shape[0]\n",
        "    centroids = initial_centroids\n",
        "    idx = np.zeros(m)\n",
        "    # Run K-Means\n",
        "    last_cost=-1\n",
        "\n",
        "    #for i in tqdm(range(max_iters), desc=\"K-Means iterations\", unit=\"item\"):\n",
        "    for i in range(max_iters):\n",
        "        # For each example in X, assign it to the closest centroid\n",
        "        idx = find_closest_centroids(X, centroids)\n",
        "\n",
        "        # Given the memberships, compute new centroids\n",
        "        centroids = compute_centroids(X, idx, K)\n",
        "        last_cost=compute_cost(X,centroids, idx)\n",
        "        #Output progress\n",
        "        if prints:\n",
        "          print(f\"K-Means iteration: {i}/{max_iters-1}, cost: {last_cost}\")\n",
        "    return centroids, idx, last_cost"
      ],
      "metadata": {
        "id": "BDAXBTWEK7m5"
      },
      "execution_count": 81,
      "outputs": []
    },
    {
      "cell_type": "code",
      "source": [
        "def kMeans_init_centroids(X, K):\n",
        "    \"\"\"\n",
        "    This function initializes K centroids that are to be\n",
        "    used in K-Means on the dataset X\n",
        "\n",
        "    Args:\n",
        "        X (ndarray): Data points\n",
        "        K (int):     number of centroids/clusters\n",
        "\n",
        "    Returns:\n",
        "        centroids (ndarray): Initialized centroids\n",
        "    \"\"\"\n",
        "\n",
        "    # Randomly reorder the indices of examples\n",
        "    randidx = np.random.permutation(X.shape[0])\n",
        "\n",
        "    # Take the first K examples as centroids\n",
        "    centroids = X[randidx[:K]]\n",
        "\n",
        "    return centroids"
      ],
      "metadata": {
        "id": "Syk5YGo7Qd_D"
      },
      "execution_count": 82,
      "outputs": []
    },
    {
      "cell_type": "code",
      "source": [
        "X_img = np.reshape(original_img, (original_img.shape[0] * original_img.shape[1], 3))"
      ],
      "metadata": {
        "id": "2CmySES4QwUW"
      },
      "execution_count": 83,
      "outputs": []
    },
    {
      "cell_type": "code",
      "source": [
        "def plot_histogram(x, title='', x_label='', y_label='', bins=30, y_lim=None):\n",
        "    \"\"\"\n",
        "    Plots a histogram of the costs from multiple K-Means initializations.\n",
        "\n",
        "    Args:\n",
        "        costs (ndarray or list): Array or list of cost values from different K-Means initializations.\n",
        "    \"\"\"\n",
        "    plt.figure(figsize=(8, 6))\n",
        "\n",
        "    # Plot histogram\n",
        "\n",
        "    #plt.hist([list(range(1,len(x+1))),list(x)], bins=bins, color='skyblue', edgecolor='black', alpha=0.7)\n",
        "    plt.plot(x, color='skyblue', marker='o', linestyle='', markersize=5, alpha=0.7)\n",
        "    # Add titles and labels\n",
        "    plt.title(title, fontsize=14)\n",
        "    plt.xlabel(x_label, fontsize=12)\n",
        "    plt.ylabel(y_label, fontsize=12)\n",
        "\n",
        "    if y_lim is not None:\n",
        "      plt.ylim(y_lim[0], y_lim[1])\n",
        "\n",
        "    # Show plot\n",
        "    plt.show()"
      ],
      "metadata": {
        "id": "c1U3ALF6ZC4e"
      },
      "execution_count": 84,
      "outputs": []
    },
    {
      "cell_type": "code",
      "source": [
        "# Run your K-Means algorithm on this data\n",
        "# You should try different values of K and max_iters here\n",
        "K = 16\n",
        "max_iters = 10\n",
        "\n",
        "initializations_count = 20\n",
        "\n",
        "centroids_ar = []\n",
        "cost_ar = []\n",
        "idx_ar = []\n",
        "\n",
        "for i in tqdm(range(initializations_count), desc=\"K-Means Runs\", unit=\"Run\"):\n",
        "  # Using the function you have implemented above.\n",
        "  initial_centroids = kMeans_init_centroids(X_img, K)\n",
        "\n",
        "  # Run K-Means - this can take a couple of minutes depending on K and max_iters\n",
        "  centroids, idx, cost = run_kMeans(X_img, initial_centroids, max_iters)\n",
        "  centroids_ar.append(centroids); idx_ar.append(idx); cost_ar.append(cost)\n",
        "\n"
      ],
      "metadata": {
        "colab": {
          "base_uri": "https://localhost:8080/",
          "height": 49,
          "referenced_widgets": [
            "761c493d9d6f4f138b17983cfcd02880",
            "c3150f0197a040aab125208ee29b602e",
            "b2d4fd7bb92647318225e8b50f84acf8",
            "0834c732c65846d49ea0caf95cd5e39b",
            "695d8bf281e042f29174b1835b1f2ea1",
            "8e966a8e3f7a4d69add29577e4dad5aa",
            "70561bd16d254eccb13fa5433ddbe847",
            "9fc004faabe147efae9da914d6b16d0e",
            "7d12c90acce04ce3a31d426583147be2",
            "f8096b9e5d064039ad26cbd4ab474b8f",
            "2c47495a05a34cc5a4ea45fb164b362e"
          ]
        },
        "id": "9FGIRCKULV3r",
        "outputId": "926b7b9a-90f3-42ca-d8fc-2c131ddc8154"
      },
      "execution_count": 85,
      "outputs": [
        {
          "output_type": "display_data",
          "data": {
            "text/plain": [
              "K-Means Runs:   0%|          | 0/20 [00:00<?, ?Run/s]"
            ],
            "application/vnd.jupyter.widget-view+json": {
              "version_major": 2,
              "version_minor": 0,
              "model_id": "761c493d9d6f4f138b17983cfcd02880"
            }
          },
          "metadata": {}
        }
      ]
    },
    {
      "cell_type": "code",
      "source": [
        "y_range = (np.min(cost_ar)-0.001, np.max(cost_ar)+0.001)\n",
        "plot_histogram(cost_ar, y_label=\"Mean Squared Distance of Pixels to Their Centroids\", x_label='K-Means Run (Initialization Attempt)', title='Pixel Similarity to Centroids Across Multiple K-Means Runs', y_lim=y_range)"
      ],
      "metadata": {
        "id": "YoVlaA5YLbIK"
      },
      "execution_count": null,
      "outputs": []
    },
    {
      "cell_type": "code",
      "source": [
        "best_centroids = centroids_ar[np.argmin(cost_ar)]\n",
        "best_centroids_idx = idx_ar[np.argmin(cost_ar)]\n",
        "utils.plot_kMeans_RGB(X_img, best_centroids, best_centroids_idx, sample_size=1000000)"
      ],
      "metadata": {
        "id": "iq1C3zhya0zK"
      },
      "execution_count": null,
      "outputs": []
    },
    {
      "cell_type": "code",
      "source": [
        "\n",
        "best_image = np.reshape(best_centroids[best_centroids_idx],original_img.shape)\n",
        "\n",
        "\n",
        "worst_centroids = centroids_ar[np.argmax(cost_ar)]\n",
        "worst_centroids_idx = idx_ar[np.argmax(cost_ar)]\n",
        "worst_image = np.reshape(worst_centroids[worst_centroids_idx],original_img.shape)\n",
        "\n",
        "utils.display_images([original_img, best_image, worst_image],['Original Image', 'Best Clustering Image For 16 colors', 'Worst Clustering Image For 16 colors'])"
      ],
      "metadata": {
        "id": "QxmlN5Yjk28q"
      },
      "execution_count": null,
      "outputs": []
    },
    {
      "cell_type": "code",
      "source": [
        "show_centroid_colors(best_centroids)"
      ],
      "metadata": {
        "id": "KA398TTJ5axq"
      },
      "execution_count": null,
      "outputs": []
    },
    {
      "cell_type": "code",
      "source": [
        "show_centroid_colors(worst_centroids)"
      ],
      "metadata": {
        "id": "eRa_rgF0FrLd"
      },
      "execution_count": null,
      "outputs": []
    },
    {
      "cell_type": "code",
      "source": [],
      "metadata": {
        "id": "GAkK3kWxFxaa"
      },
      "execution_count": 90,
      "outputs": []
    }
  ]
}
